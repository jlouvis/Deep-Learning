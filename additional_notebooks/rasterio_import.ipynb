{
 "cells": [
  {
   "cell_type": "markdown",
   "metadata": {},
   "source": [
    "## Import method using Rasterio\n",
    "Just for reference."
   ]
  },
  {
   "cell_type": "code",
   "execution_count": null,
   "metadata": {},
   "outputs": [],
   "source": [
    "import rasterio\n",
    "from rasterio.plot import show\n",
    "import os\n",
    "import numpy as np\n",
    "import matplotlib.pyplot as plt\n",
    "from glob import glob"
   ]
  },
  {
   "cell_type": "code",
   "execution_count": null,
   "metadata": {},
   "outputs": [],
   "source": [
    "path = 'data/SOCprist0001.tiff'\n",
    "\n",
    "with rasterio.open(path) as image:\n",
    "    image_array = image.read()\n",
    "print(type(image_array))\n",
    "show(image_array,cmap='gray')\n",
    "#torch_image = torch.from_numpy(image_array) # gives an error.."
   ]
  },
  {
   "cell_type": "code",
   "execution_count": null,
   "metadata": {},
   "outputs": [],
   "source": [
    "# Path to the main directory containing all subdirectories with images\n",
    "path_to_images = \"data\"\n",
    "\n",
    "images = []\n",
    "for subdirectory in os.listdir(path_to_images):\n",
    "    subdirectory_path = os.path.join(path_to_images, subdirectory)\n",
    "    with rasterio.open(subdirectory_path) as image:\n",
    "        image_array = image.read()\n",
    "        images.append(image_array)\n",
    "    #print(subdirectory_path)"
   ]
  },
  {
   "cell_type": "code",
   "execution_count": null,
   "metadata": {},
   "outputs": [],
   "source": [
    "show(images[10],cmap='gray')"
   ]
  },
  {
   "cell_type": "code",
   "execution_count": null,
   "metadata": {},
   "outputs": [],
   "source": [
    "path_to_labels = \"labels\"\n",
    "labels = []\n",
    "\n",
    "# Use glob to find all label files in the directory\n",
    "label_files = glob(os.path.join(path_to_labels, '*.tif'))\n",
    "\n",
    "for label_file in label_files:\n",
    "    with rasterio.open(label_file) as src:\n",
    "        label_array = src.read(1)  # Assuming the label data is in the first band (1-based index)\n",
    "        labels.append(label_array)\n",
    "\n",
    "# The 'with' statement will automatically close the rasterio dataset when you exit the block\n"
   ]
  },
  {
   "cell_type": "code",
   "execution_count": null,
   "metadata": {},
   "outputs": [],
   "source": [
    "show(labels[10],cmap='gray')"
   ]
  },
  {
   "cell_type": "code",
   "execution_count": null,
   "metadata": {},
   "outputs": [],
   "source": [
    "# Assuming you have a list of label images in the 'labels' variable\n",
    "# labels[0] is the first label image, labels[1] is the second, and so on\n",
    "label_images = labels[:10]  # Get the first 10 label images\n",
    "\n",
    "# Create a figure with tight layout\n",
    "fig, axes = plt.subplots(2, 5, figsize=(12, 6))\n",
    "plt.tight_layout()\n",
    "\n",
    "# Iterate through the label images and display them in the subplots with titles\n",
    "for i, ax in enumerate(axes.flat):\n",
    "    if i < len(label_images):\n",
    "        ax.imshow(label_images[i], cmap='gray')  # Use 'cmap' to specify the colormap (e.g., 'gray' for grayscale)\n",
    "        ax.axis('off')  # Turn off the axis labels\n",
    "        ax.set_title(f\"Label {i+1}\", fontsize=12)  # Add a title with \"Image 1\", \"Image 2\", etc.\n",
    "\n",
    "# Show the plot\n",
    "plt.show()"
   ]
  },
  {
   "cell_type": "code",
   "execution_count": null,
   "metadata": {},
   "outputs": [],
   "source": [
    "# Assuming you have a list of image data in the 'images' variable\n",
    "# images[0] is the first image, images[1] is the second, and so on\n",
    "first_10_images = images[:10]  # Get the first 10 images\n",
    "\n",
    "# Create a figure with tight layout\n",
    "fig, axes = plt.subplots(2, 5, figsize=(12, 6))\n",
    "plt.tight_layout()\n",
    "\n",
    "# Iterate through the images and display them in the subplots with titles\n",
    "for i, ax in enumerate(axes.flat):\n",
    "    if i < len(first_10_images):\n",
    "        image = first_10_images[i][0]  # Remove the extra dimension\n",
    "        ax.imshow(image, cmap='gray')  # Use 'cmap' to specify the colormap (e.g., 'gray' for grayscale)\n",
    "        ax.axis('off')  # Turn off the axis labels\n",
    "        ax.set_title(f\"Image {i+1}\", fontsize=12)  # Add a title with \"Image 1\", \"Image 2\", etc.\n",
    "\n",
    "# Show the plot\n",
    "plt.show()"
   ]
  }
 ],
 "metadata": {
  "language_info": {
   "name": "python"
  }
 },
 "nbformat": 4,
 "nbformat_minor": 2
}
